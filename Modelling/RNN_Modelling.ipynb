{
 "cells": [
  {
   "cell_type": "code",
   "execution_count": 1,
   "id": "0c762ccf",
   "metadata": {},
   "outputs": [
    {
     "name": "stdout",
     "output_type": "stream",
     "text": [
      "Requirement already satisfied: tensorflow in c:\\users\\elsie\\anaconda3\\lib\\site-packages (2.13.0)Note: you may need to restart the kernel to use updated packages.\n",
      "\n",
      "Requirement already satisfied: tensorflow-intel==2.13.0 in c:\\users\\elsie\\anaconda3\\lib\\site-packages (from tensorflow) (2.13.0)\n",
      "Requirement already satisfied: google-pasta>=0.1.1 in c:\\users\\elsie\\anaconda3\\lib\\site-packages (from tensorflow-intel==2.13.0->tensorflow) (0.2.0)\n",
      "Requirement already satisfied: wrapt>=1.11.0 in c:\\users\\elsie\\anaconda3\\lib\\site-packages (from tensorflow-intel==2.13.0->tensorflow) (1.14.1)\n",
      "Requirement already satisfied: tensorflow-io-gcs-filesystem>=0.23.1 in c:\\users\\elsie\\anaconda3\\lib\\site-packages (from tensorflow-intel==2.13.0->tensorflow) (0.31.0)\n",
      "Requirement already satisfied: flatbuffers>=23.1.21 in c:\\users\\elsie\\anaconda3\\lib\\site-packages (from tensorflow-intel==2.13.0->tensorflow) (23.5.26)\n",
      "Requirement already satisfied: setuptools in c:\\users\\elsie\\anaconda3\\lib\\site-packages (from tensorflow-intel==2.13.0->tensorflow) (63.4.1)\n",
      "Requirement already satisfied: termcolor>=1.1.0 in c:\\users\\elsie\\anaconda3\\lib\\site-packages (from tensorflow-intel==2.13.0->tensorflow) (2.3.0)\n",
      "Requirement already satisfied: tensorboard<2.14,>=2.13 in c:\\users\\elsie\\anaconda3\\lib\\site-packages (from tensorflow-intel==2.13.0->tensorflow) (2.13.0)\n",
      "Requirement already satisfied: packaging in c:\\users\\elsie\\anaconda3\\lib\\site-packages (from tensorflow-intel==2.13.0->tensorflow) (21.3)\n",
      "Requirement already satisfied: numpy<=1.24.3,>=1.22 in c:\\users\\elsie\\anaconda3\\lib\\site-packages (from tensorflow-intel==2.13.0->tensorflow) (1.24.3)\n",
      "Requirement already satisfied: protobuf!=4.21.0,!=4.21.1,!=4.21.2,!=4.21.3,!=4.21.4,!=4.21.5,<5.0.0dev,>=3.20.3 in c:\\users\\elsie\\anaconda3\\lib\\site-packages (from tensorflow-intel==2.13.0->tensorflow) (4.23.4)\n",
      "Requirement already satisfied: opt-einsum>=2.3.2 in c:\\users\\elsie\\anaconda3\\lib\\site-packages (from tensorflow-intel==2.13.0->tensorflow) (3.3.0)\n",
      "Requirement already satisfied: astunparse>=1.6.0 in c:\\users\\elsie\\anaconda3\\lib\\site-packages (from tensorflow-intel==2.13.0->tensorflow) (1.6.3)\n",
      "Requirement already satisfied: gast<=0.4.0,>=0.2.1 in c:\\users\\elsie\\anaconda3\\lib\\site-packages (from tensorflow-intel==2.13.0->tensorflow) (0.4.0)\n",
      "Requirement already satisfied: absl-py>=1.0.0 in c:\\users\\elsie\\anaconda3\\lib\\site-packages (from tensorflow-intel==2.13.0->tensorflow) (1.4.0)\n",
      "Requirement already satisfied: tensorflow-estimator<2.14,>=2.13.0 in c:\\users\\elsie\\anaconda3\\lib\\site-packages (from tensorflow-intel==2.13.0->tensorflow) (2.13.0)\n",
      "Requirement already satisfied: libclang>=13.0.0 in c:\\users\\elsie\\anaconda3\\lib\\site-packages (from tensorflow-intel==2.13.0->tensorflow) (16.0.6)\n",
      "Requirement already satisfied: typing-extensions<4.6.0,>=3.6.6 in c:\\users\\elsie\\anaconda3\\lib\\site-packages (from tensorflow-intel==2.13.0->tensorflow) (4.3.0)\n",
      "Requirement already satisfied: keras<2.14,>=2.13.1 in c:\\users\\elsie\\anaconda3\\lib\\site-packages (from tensorflow-intel==2.13.0->tensorflow) (2.13.1)\n",
      "Requirement already satisfied: six>=1.12.0 in c:\\users\\elsie\\anaconda3\\lib\\site-packages (from tensorflow-intel==2.13.0->tensorflow) (1.16.0)\n",
      "Requirement already satisfied: grpcio<2.0,>=1.24.3 in c:\\users\\elsie\\anaconda3\\lib\\site-packages (from tensorflow-intel==2.13.0->tensorflow) (1.56.0)\n",
      "Requirement already satisfied: h5py>=2.9.0 in c:\\users\\elsie\\anaconda3\\lib\\site-packages (from tensorflow-intel==2.13.0->tensorflow) (3.7.0)\n",
      "Requirement already satisfied: wheel<1.0,>=0.23.0 in c:\\users\\elsie\\anaconda3\\lib\\site-packages (from astunparse>=1.6.0->tensorflow-intel==2.13.0->tensorflow) (0.37.1)\n",
      "Requirement already satisfied: requests<3,>=2.21.0 in c:\\users\\elsie\\anaconda3\\lib\\site-packages (from tensorboard<2.14,>=2.13->tensorflow-intel==2.13.0->tensorflow) (2.28.1)\n",
      "Requirement already satisfied: google-auth<3,>=1.6.3 in c:\\users\\elsie\\anaconda3\\lib\\site-packages (from tensorboard<2.14,>=2.13->tensorflow-intel==2.13.0->tensorflow) (2.22.0)\n",
      "Requirement already satisfied: markdown>=2.6.8 in c:\\users\\elsie\\anaconda3\\lib\\site-packages (from tensorboard<2.14,>=2.13->tensorflow-intel==2.13.0->tensorflow) (3.3.4)\n",
      "Requirement already satisfied: tensorboard-data-server<0.8.0,>=0.7.0 in c:\\users\\elsie\\anaconda3\\lib\\site-packages (from tensorboard<2.14,>=2.13->tensorflow-intel==2.13.0->tensorflow) (0.7.1)\n",
      "Requirement already satisfied: werkzeug>=1.0.1 in c:\\users\\elsie\\anaconda3\\lib\\site-packages (from tensorboard<2.14,>=2.13->tensorflow-intel==2.13.0->tensorflow) (2.0.3)\n",
      "Requirement already satisfied: google-auth-oauthlib<1.1,>=0.5 in c:\\users\\elsie\\anaconda3\\lib\\site-packages (from tensorboard<2.14,>=2.13->tensorflow-intel==2.13.0->tensorflow) (1.0.0)\n",
      "Requirement already satisfied: pyparsing!=3.0.5,>=2.0.2 in c:\\users\\elsie\\anaconda3\\lib\\site-packages (from packaging->tensorflow-intel==2.13.0->tensorflow) (3.0.9)\n",
      "Requirement already satisfied: cachetools<6.0,>=2.0.0 in c:\\users\\elsie\\anaconda3\\lib\\site-packages (from google-auth<3,>=1.6.3->tensorboard<2.14,>=2.13->tensorflow-intel==2.13.0->tensorflow) (5.3.1)\n",
      "Requirement already satisfied: pyasn1-modules>=0.2.1 in c:\\users\\elsie\\anaconda3\\lib\\site-packages (from google-auth<3,>=1.6.3->tensorboard<2.14,>=2.13->tensorflow-intel==2.13.0->tensorflow) (0.2.8)\n",
      "Requirement already satisfied: rsa<5,>=3.1.4 in c:\\users\\elsie\\anaconda3\\lib\\site-packages (from google-auth<3,>=1.6.3->tensorboard<2.14,>=2.13->tensorflow-intel==2.13.0->tensorflow) (4.9)\n",
      "Requirement already satisfied: urllib3<2.0 in c:\\users\\elsie\\anaconda3\\lib\\site-packages (from google-auth<3,>=1.6.3->tensorboard<2.14,>=2.13->tensorflow-intel==2.13.0->tensorflow) (1.26.11)\n",
      "Requirement already satisfied: requests-oauthlib>=0.7.0 in c:\\users\\elsie\\anaconda3\\lib\\site-packages (from google-auth-oauthlib<1.1,>=0.5->tensorboard<2.14,>=2.13->tensorflow-intel==2.13.0->tensorflow) (1.3.1)\n",
      "Requirement already satisfied: idna<4,>=2.5 in c:\\users\\elsie\\anaconda3\\lib\\site-packages (from requests<3,>=2.21.0->tensorboard<2.14,>=2.13->tensorflow-intel==2.13.0->tensorflow) (3.3)\n",
      "Requirement already satisfied: certifi>=2017.4.17 in c:\\users\\elsie\\anaconda3\\lib\\site-packages (from requests<3,>=2.21.0->tensorboard<2.14,>=2.13->tensorflow-intel==2.13.0->tensorflow) (2022.9.14)\n",
      "Requirement already satisfied: charset-normalizer<3,>=2 in c:\\users\\elsie\\anaconda3\\lib\\site-packages (from requests<3,>=2.21.0->tensorboard<2.14,>=2.13->tensorflow-intel==2.13.0->tensorflow) (2.0.4)\n",
      "Requirement already satisfied: pyasn1<0.5.0,>=0.4.6 in c:\\users\\elsie\\anaconda3\\lib\\site-packages (from pyasn1-modules>=0.2.1->google-auth<3,>=1.6.3->tensorboard<2.14,>=2.13->tensorflow-intel==2.13.0->tensorflow) (0.4.8)\n",
      "Requirement already satisfied: oauthlib>=3.0.0 in c:\\users\\elsie\\anaconda3\\lib\\site-packages (from requests-oauthlib>=0.7.0->google-auth-oauthlib<1.1,>=0.5->tensorboard<2.14,>=2.13->tensorflow-intel==2.13.0->tensorflow) (3.2.2)\n"
     ]
    }
   ],
   "source": [
    "pip install tensorflow"
   ]
  },
  {
   "cell_type": "code",
   "execution_count": 2,
   "id": "96b37521",
   "metadata": {},
   "outputs": [
    {
     "name": "stdout",
     "output_type": "stream",
     "text": [
      "Requirement already satisfied: pandas in c:\\users\\elsie\\anaconda3\\lib\\site-packages (1.4.4)\n",
      "Requirement already satisfied: scikit-learn in c:\\users\\elsie\\anaconda3\\lib\\site-packages (1.0.2)\n",
      "Requirement already satisfied: pytz>=2020.1 in c:\\users\\elsie\\anaconda3\\lib\\site-packages (from pandas) (2022.1)\n",
      "Requirement already satisfied: python-dateutil>=2.8.1 in c:\\users\\elsie\\anaconda3\\lib\\site-packages (from pandas) (2.8.2)\n",
      "Requirement already satisfied: numpy>=1.18.5 in c:\\users\\elsie\\anaconda3\\lib\\site-packages (from pandas) (1.24.3)\n",
      "Requirement already satisfied: threadpoolctl>=2.0.0 in c:\\users\\elsie\\anaconda3\\lib\\site-packages (from scikit-learn) (2.2.0)\n",
      "Requirement already satisfied: scipy>=1.1.0 in c:\\users\\elsie\\anaconda3\\lib\\site-packages (from scikit-learn) (1.9.1)\n",
      "Requirement already satisfied: joblib>=0.11 in c:\\users\\elsie\\anaconda3\\lib\\site-packages (from scikit-learn) (1.1.0)\n",
      "Requirement already satisfied: six>=1.5 in c:\\users\\elsie\\anaconda3\\lib\\site-packages (from python-dateutil>=2.8.1->pandas) (1.16.0)\n",
      "Note: you may need to restart the kernel to use updated packages.\n"
     ]
    }
   ],
   "source": [
    "pip install pandas scikit-learn"
   ]
  },
  {
   "cell_type": "code",
   "execution_count": 3,
   "id": "36baf31f",
   "metadata": {},
   "outputs": [],
   "source": [
    "# Importing necessary packages\n",
    "import pandas as pd\n",
    "import numpy as np\n",
    "import warnings\n",
    "warnings.filterwarnings(action='ignore', category=FutureWarning)\n",
    "from sklearn.model_selection import train_test_split\n",
    "from sklearn.preprocessing import OneHotEncoder, StandardScaler\n",
    "from sklearn.metrics import classification_report\n",
    "from tensorflow.keras.preprocessing.text import Tokenizer\n",
    "from tensorflow.keras.preprocessing.sequence import pad_sequences\n",
    "from tensorflow.keras.models import Sequential\n",
    "from tensorflow.keras.layers import Embedding, LSTM, Dense\n",
    "from tensorflow.keras.callbacks import EarlyStopping\n",
    "from sklearn.metrics import classification_report\n"
   ]
  },
  {
   "cell_type": "code",
   "execution_count": 4,
   "id": "6c7a8684",
   "metadata": {},
   "outputs": [],
   "source": [
    "# Load the dataframe\n",
    "data = pd.read_csv('Data/Preprocessed_data_.csv')\n",
    "\n",
    "# Create a copy of the dataframe\n",
    "pre_df = data.copy()\n",
    "\n",
    "# Handling missing values in the 'text' column\n",
    "pre_df['text'] = pre_df['text'].fillna('')\n",
    "\n",
    "# Drop rows with empty strings in the 'text' column\n",
    "pre_df = pre_df[pre_df['text'] != '']\n",
    "\n",
    "# Reset the index of the DataFrame\n",
    "pre_df.reset_index(drop=True, inplace=True)\n"
   ]
  },
  {
   "cell_type": "code",
   "execution_count": 5,
   "id": "ae95db1e",
   "metadata": {},
   "outputs": [
    {
     "name": "stdout",
     "output_type": "stream",
     "text": [
      "<class 'pandas.core.frame.DataFrame'>\n",
      "RangeIndex: 55868 entries, 0 to 55867\n",
      "Data columns (total 7 columns):\n",
      " #   Column           Non-Null Count  Dtype \n",
      "---  ------           --------------  ----- \n",
      " 0   Unnamed: 0       55868 non-null  int64 \n",
      " 1   text             55868 non-null  object\n",
      " 2   original_text    55868 non-null  object\n",
      " 3   listed_emotions  55868 non-null  object\n",
      " 4   emotion_count    55868 non-null  int64 \n",
      " 5   labels           55868 non-null  object\n",
      " 6   encoded_labels   55868 non-null  int64 \n",
      "dtypes: int64(3), object(4)\n",
      "memory usage: 3.0+ MB\n"
     ]
    }
   ],
   "source": [
    "pre_df.info()"
   ]
  },
  {
   "cell_type": "code",
   "execution_count": 6,
   "id": "4beffd60",
   "metadata": {},
   "outputs": [],
   "source": [
    "# Tokenization\n",
    "tokenizer = Tokenizer()\n",
    "texts = pre_df['text']\n",
    "tokenizer.fit_on_texts(texts)  # 'texts' represents the text data\n",
    "num_words = len(tokenizer.word_index) + 1  # Add 1 for the reserved 0 index\n",
    "embedding_dim = 100\n",
    "sequence_lengths = [len(tokens) for tokens in tokenizer.texts_to_sequences(texts)]\n",
    "max_sequence_length = max(sequence_lengths)\n",
    "num_classes = len(set(pre_df['labels']))\n"
   ]
  },
  {
   "cell_type": "code",
   "execution_count": 7,
   "id": "6941d1a0",
   "metadata": {},
   "outputs": [],
   "source": [
    "from sklearn.feature_extraction.text import TfidfVectorizer\n",
    "from sklearn.decomposition import TruncatedSVD"
   ]
  },
  {
   "cell_type": "code",
   "execution_count": 8,
   "id": "8a60a314",
   "metadata": {},
   "outputs": [],
   "source": [
    "# Vectorization\n",
    "vectorizer = TfidfVectorizer()\n",
    "text_vectorized = vectorizer.fit_transform(pre_df['text'].values.astype('U'))\n",
    "svd = TruncatedSVD(n_components=100)\n",
    "text_vectorized_svd = svd.fit_transform(text_vectorized)\n",
    "vectorized_df = pd.DataFrame(text_vectorized_svd)\n",
    "pre_df_vectorized = pd.concat([pre_df, vectorized_df], axis=1)\n"
   ]
  },
  {
   "cell_type": "code",
   "execution_count": 9,
   "id": "15cb7b0c",
   "metadata": {},
   "outputs": [],
   "source": [
    "# Split the data\n",
    "X = text_vectorized_svd\n",
    "y = pre_df['encoded_labels']\n",
    "X_train, X_test, y_train, y_test = train_test_split(X, y, test_size=0.4, random_state=42)\n"
   ]
  },
  {
   "cell_type": "code",
   "execution_count": 10,
   "id": "7d1d765a",
   "metadata": {},
   "outputs": [],
   "source": [
    "# Reshape the input data\n",
    "X_train = X_train.reshape(X_train.shape[0], 1, X_train.shape[1])\n",
    "X_test = X_test.reshape(X_test.shape[0], 1, X_test.shape[1])\n"
   ]
  },
  {
   "cell_type": "code",
   "execution_count": 11,
   "id": "f34b09e3",
   "metadata": {},
   "outputs": [],
   "source": [
    "# One-hot encode the target variable\n",
    "encoder = OneHotEncoder()\n",
    "y_train_encoded = encoder.fit_transform(y_train.values.reshape(-1, 1)).toarray()\n",
    "y_test_encoded = encoder.transform(y_test.values.reshape(-1, 1)).toarray()\n"
   ]
  },
  {
   "cell_type": "code",
   "execution_count": 12,
   "id": "8a587c84",
   "metadata": {},
   "outputs": [],
   "source": [
    "# Define the model architecture\n",
    "model = Sequential()\n",
    "model.add(LSTM(units=64, dropout=0.2, recurrent_dropout=0.2, input_shape=(1, X_train.shape[2])))\n",
    "model.add(Dense(units=num_classes, activation='softmax'))\n"
   ]
  },
  {
   "cell_type": "code",
   "execution_count": 13,
   "id": "2fa43cac",
   "metadata": {},
   "outputs": [],
   "source": [
    "# Compile the model\n",
    "model.compile(optimizer='adam', loss='categorical_crossentropy', metrics=['accuracy'])\n"
   ]
  },
  {
   "cell_type": "code",
   "execution_count": 14,
   "id": "e03d66d9",
   "metadata": {},
   "outputs": [
    {
     "name": "stdout",
     "output_type": "stream",
     "text": [
      "Epoch 1/10\n",
      "1048/1048 [==============================] - 15s 10ms/step - loss: 1.0227 - accuracy: 0.4627 - val_loss: 0.9729 - val_accuracy: 0.4913\n",
      "Epoch 2/10\n",
      "1048/1048 [==============================] - 8s 8ms/step - loss: 0.9896 - accuracy: 0.4808 - val_loss: 0.9666 - val_accuracy: 0.4919\n",
      "Epoch 3/10\n",
      "1048/1048 [==============================] - 9s 9ms/step - loss: 0.9878 - accuracy: 0.4790 - val_loss: 0.9657 - val_accuracy: 0.4975\n",
      "Epoch 4/10\n",
      "1048/1048 [==============================] - 9s 9ms/step - loss: 0.9854 - accuracy: 0.4805 - val_loss: 0.9658 - val_accuracy: 0.4974\n",
      "Epoch 5/10\n",
      "1048/1048 [==============================] - 9s 9ms/step - loss: 0.9838 - accuracy: 0.4849 - val_loss: 0.9639 - val_accuracy: 0.4922\n",
      "Epoch 6/10\n",
      "1048/1048 [==============================] - 9s 9ms/step - loss: 0.9832 - accuracy: 0.4857 - val_loss: 0.9645 - val_accuracy: 0.4981\n",
      "Epoch 7/10\n",
      "1048/1048 [==============================] - 9s 8ms/step - loss: 0.9825 - accuracy: 0.4857 - val_loss: 0.9633 - val_accuracy: 0.4906\n",
      "Epoch 8/10\n",
      "1048/1048 [==============================] - 9s 8ms/step - loss: 0.9828 - accuracy: 0.4850 - val_loss: 0.9629 - val_accuracy: 0.4947\n",
      "Epoch 9/10\n",
      "1048/1048 [==============================] - 10s 9ms/step - loss: 0.9790 - accuracy: 0.4864 - val_loss: 0.9619 - val_accuracy: 0.4942\n",
      "Epoch 10/10\n",
      "1048/1048 [==============================] - 10s 9ms/step - loss: 0.9756 - accuracy: 0.4900 - val_loss: 0.9613 - val_accuracy: 0.5005\n"
     ]
    },
    {
     "data": {
      "text/plain": [
       "<keras.src.callbacks.History at 0x1f0aa1f03d0>"
      ]
     },
     "execution_count": 14,
     "metadata": {},
     "output_type": "execute_result"
    }
   ],
   "source": [
    "# Train the model\n",
    "early_stopping = EarlyStopping(patience=3, restore_best_weights=True)\n",
    "model.fit(X_train, y_train_encoded, epochs=10, batch_size=32, validation_data=(X_test, y_test_encoded),\n",
    "          callbacks=[early_stopping])"
   ]
  },
  {
   "cell_type": "code",
   "execution_count": 15,
   "id": "3d4d1ef7",
   "metadata": {},
   "outputs": [],
   "source": [
    "# Evaluate the model\n",
    "#y_pred = model.predict_classes(X_test)\n",
    "#y_test_labels = np.argmax(y_test_encoded, axis=1)\n",
    "#print(classification_report(y_test_labels, y_pred))\n"
   ]
  },
  {
   "cell_type": "code",
   "execution_count": 16,
   "id": "d201c430",
   "metadata": {},
   "outputs": [
    {
     "name": "stdout",
     "output_type": "stream",
     "text": [
      "699/699 [==============================] - 4s 4ms/step\n",
      "              precision    recall  f1-score   support\n",
      "\n",
      "           0       0.48      0.33      0.39      6270\n",
      "           1       0.39      0.17      0.24      6041\n",
      "           2       0.52      0.80      0.63     10037\n",
      "\n",
      "    accuracy                           0.50     22348\n",
      "   macro avg       0.47      0.44      0.42     22348\n",
      "weighted avg       0.48      0.50      0.46     22348\n",
      "\n"
     ]
    }
   ],
   "source": [
    "y_pred = model.predict(X_test)  \n",
    "y_pred_labels = np.argmax(y_pred, axis=1)\n",
    "y_test_labels = np.argmax(y_test_encoded, axis=1)\n",
    "\n",
    "print(classification_report(y_test_labels, y_pred_labels))\n"
   ]
  },
  {
   "cell_type": "markdown",
   "id": "26844465",
   "metadata": {},
   "source": [
    "#### Fine Tuning the model"
   ]
  },
  {
   "cell_type": "code",
   "execution_count": 17,
   "id": "85a71591",
   "metadata": {},
   "outputs": [
    {
     "name": "stdout",
     "output_type": "stream",
     "text": [
      "Epoch 1/40\n",
      "1048/1048 [==============================] - 23s 13ms/step - loss: 1.0037 - accuracy: 0.4739 - val_loss: 0.9651 - val_accuracy: 0.5066\n",
      "Epoch 2/40\n",
      "1048/1048 [==============================] - 13s 12ms/step - loss: 0.9789 - accuracy: 0.4899 - val_loss: 0.9613 - val_accuracy: 0.5161\n",
      "Epoch 3/40\n",
      "1048/1048 [==============================] - 13s 12ms/step - loss: 0.9776 - accuracy: 0.4970 - val_loss: 0.9616 - val_accuracy: 0.5160\n",
      "Epoch 4/40\n",
      "1048/1048 [==============================] - 13s 12ms/step - loss: 0.9750 - accuracy: 0.4998 - val_loss: 0.9597 - val_accuracy: 0.5126\n",
      "Epoch 5/40\n",
      "1048/1048 [==============================] - 13s 12ms/step - loss: 0.9763 - accuracy: 0.4982 - val_loss: 0.9595 - val_accuracy: 0.4964\n",
      "Epoch 6/40\n",
      "1048/1048 [==============================] - 13s 12ms/step - loss: 0.9750 - accuracy: 0.5008 - val_loss: 0.9591 - val_accuracy: 0.5116\n",
      "Epoch 7/40\n",
      "1048/1048 [==============================] - 13s 12ms/step - loss: 0.9736 - accuracy: 0.4996 - val_loss: 0.9591 - val_accuracy: 0.5137\n",
      "Epoch 8/40\n",
      "1048/1048 [==============================] - 13s 12ms/step - loss: 0.9733 - accuracy: 0.5034 - val_loss: 0.9591 - val_accuracy: 0.5098\n",
      "Epoch 9/40\n",
      "1048/1048 [==============================] - 13s 12ms/step - loss: 0.9699 - accuracy: 0.5085 - val_loss: 0.9588 - val_accuracy: 0.5060\n",
      "Epoch 10/40\n",
      "1048/1048 [==============================] - 13s 12ms/step - loss: 0.9699 - accuracy: 0.5058 - val_loss: 0.9579 - val_accuracy: 0.5174\n",
      "Epoch 11/40\n",
      "1048/1048 [==============================] - 13s 12ms/step - loss: 0.9694 - accuracy: 0.5065 - val_loss: 0.9571 - val_accuracy: 0.5186\n",
      "Epoch 12/40\n",
      "1048/1048 [==============================] - 13s 12ms/step - loss: 0.9680 - accuracy: 0.5072 - val_loss: 0.9596 - val_accuracy: 0.5210\n",
      "Epoch 13/40\n",
      "1048/1048 [==============================] - 13s 13ms/step - loss: 0.9680 - accuracy: 0.5093 - val_loss: 0.9586 - val_accuracy: 0.5187\n",
      "Epoch 14/40\n",
      "1048/1048 [==============================] - 12s 12ms/step - loss: 0.9651 - accuracy: 0.5099 - val_loss: 0.9567 - val_accuracy: 0.5196\n",
      "Epoch 15/40\n",
      "1048/1048 [==============================] - 12s 11ms/step - loss: 0.9637 - accuracy: 0.5124 - val_loss: 0.9579 - val_accuracy: 0.5069\n",
      "Epoch 16/40\n",
      "1048/1048 [==============================] - 12s 12ms/step - loss: 0.9644 - accuracy: 0.5132 - val_loss: 0.9567 - val_accuracy: 0.4994\n",
      "Epoch 17/40\n",
      "1048/1048 [==============================] - 12s 12ms/step - loss: 0.9623 - accuracy: 0.5126 - val_loss: 0.9555 - val_accuracy: 0.5189\n",
      "Epoch 18/40\n",
      "1048/1048 [==============================] - 13s 12ms/step - loss: 0.9610 - accuracy: 0.5130 - val_loss: 0.9548 - val_accuracy: 0.5213\n",
      "Epoch 19/40\n",
      "1048/1048 [==============================] - 13s 13ms/step - loss: 0.9601 - accuracy: 0.5160 - val_loss: 0.9554 - val_accuracy: 0.5065\n",
      "Epoch 20/40\n",
      "1048/1048 [==============================] - 13s 13ms/step - loss: 0.9585 - accuracy: 0.5179 - val_loss: 0.9544 - val_accuracy: 0.5234\n",
      "Epoch 21/40\n",
      "1048/1048 [==============================] - 13s 12ms/step - loss: 0.9566 - accuracy: 0.5185 - val_loss: 0.9558 - val_accuracy: 0.5216\n",
      "Epoch 22/40\n",
      "1048/1048 [==============================] - 12s 12ms/step - loss: 0.9553 - accuracy: 0.5210 - val_loss: 0.9533 - val_accuracy: 0.5167\n",
      "Epoch 23/40\n",
      "1048/1048 [==============================] - 13s 13ms/step - loss: 0.9546 - accuracy: 0.5194 - val_loss: 0.9532 - val_accuracy: 0.5189\n",
      "Epoch 24/40\n",
      "1048/1048 [==============================] - 12s 12ms/step - loss: 0.9532 - accuracy: 0.5209 - val_loss: 0.9537 - val_accuracy: 0.5209\n",
      "Epoch 25/40\n",
      "1048/1048 [==============================] - 12s 11ms/step - loss: 0.9530 - accuracy: 0.5219 - val_loss: 0.9521 - val_accuracy: 0.5246\n",
      "Epoch 26/40\n",
      "1048/1048 [==============================] - 11s 11ms/step - loss: 0.9520 - accuracy: 0.5225 - val_loss: 0.9526 - val_accuracy: 0.5266\n",
      "Epoch 27/40\n",
      "1048/1048 [==============================] - 11s 10ms/step - loss: 0.9489 - accuracy: 0.5232 - val_loss: 0.9529 - val_accuracy: 0.5244\n",
      "Epoch 28/40\n",
      "1048/1048 [==============================] - 10s 10ms/step - loss: 0.9484 - accuracy: 0.5236 - val_loss: 0.9542 - val_accuracy: 0.5173\n",
      "Epoch 29/40\n",
      "1048/1048 [==============================] - 11s 10ms/step - loss: 0.9466 - accuracy: 0.5237 - val_loss: 0.9535 - val_accuracy: 0.5239\n",
      "Epoch 30/40\n",
      "1048/1048 [==============================] - 10s 10ms/step - loss: 0.9448 - accuracy: 0.5263 - val_loss: 0.9540 - val_accuracy: 0.5183\n",
      "699/699 [==============================] - 5s 5ms/step\n",
      "              precision    recall  f1-score   support\n",
      "\n",
      "           0       0.49      0.32      0.39      6270\n",
      "           1       0.41      0.46      0.43      6041\n",
      "           2       0.61      0.69      0.64     10037\n",
      "\n",
      "    accuracy                           0.52     22348\n",
      "   macro avg       0.50      0.49      0.49     22348\n",
      "weighted avg       0.52      0.52      0.52     22348\n",
      "\n"
     ]
    }
   ],
   "source": [
    "from tensorflow.keras.models import Sequential\n",
    "from tensorflow.keras.layers import LSTM, Dense, Bidirectional, Dropout\n",
    "from tensorflow.keras.optimizers import Adam\n",
    "from tensorflow.keras.callbacks import EarlyStopping\n",
    "\n",
    "# Define the model architecture with improvements\n",
    "model = Sequential()\n",
    "model.add(Bidirectional(LSTM(units=128, dropout=0.2, recurrent_dropout=0.2), input_shape=(1, X_train.shape[2])))\n",
    "model.add(Dense(units=num_classes, activation='softmax'))\n",
    "\n",
    "# Compile the model with adjusted learning rate and optimizer\n",
    "optimizer = Adam(learning_rate=0.001)\n",
    "model.compile(optimizer=optimizer, loss='categorical_crossentropy', metrics=['accuracy'])\n",
    "\n",
    "# Train the model with early stopping\n",
    "early_stopping = EarlyStopping(patience=5, restore_best_weights=True)\n",
    "model.fit(X_train, y_train_encoded, epochs=40, batch_size=32, validation_data=(X_test, y_test_encoded),\n",
    "          callbacks=[early_stopping])\n",
    "\n",
    "# Evaluate the model\n",
    "y_pred = model.predict(X_test)\n",
    "y_pred_labels = np.argmax(y_pred, axis=1)\n",
    "y_test_labels = np.argmax(y_test_encoded, axis=1)\n",
    "print(classification_report(y_test_labels, y_pred_labels))\n"
   ]
  },
  {
   "cell_type": "code",
   "execution_count": null,
   "id": "d2252ad7",
   "metadata": {},
   "outputs": [],
   "source": []
  }
 ],
 "metadata": {
  "kernelspec": {
   "display_name": "Python 3 (ipykernel)",
   "language": "python",
   "name": "python3"
  },
  "language_info": {
   "codemirror_mode": {
    "name": "ipython",
    "version": 3
   },
   "file_extension": ".py",
   "mimetype": "text/x-python",
   "name": "python",
   "nbconvert_exporter": "python",
   "pygments_lexer": "ipython3",
   "version": "3.9.13"
  }
 },
 "nbformat": 4,
 "nbformat_minor": 5
}
